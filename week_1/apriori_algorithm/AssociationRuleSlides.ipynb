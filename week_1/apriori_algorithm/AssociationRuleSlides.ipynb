{
 "cells": [
  {
   "cell_type": "markdown",
   "metadata": {
    "slideshow": {
     "slide_type": "slide"
    }
   },
   "source": [
    "### A glimpse into Data Mining algorithms: Association Rule Mining"
   ]
  },
  {
   "cell_type": "markdown",
   "metadata": {
    "slideshow": {
     "slide_type": "slide"
    }
   },
   "source": [
    "Association Rule Mining is used to identify relations between items based on historical data."
   ]
  },
  {
   "cell_type": "markdown",
   "metadata": {},
   "source": [
    "1. How probable is a customer to by Item X if they bought Item Y\n",
    "2. How probable is a cusomer to watch movie X if they watched movie Y"
   ]
  },
  {
   "cell_type": "markdown",
   "metadata": {
    "slideshow": {
     "slide_type": "slide"
    }
   },
   "source": [
    "Apriori algorithm is a type of algorithm that comes under Association Rule Mining. There are 3 major components to it: "
   ]
  },
  {
   "cell_type": "markdown",
   "metadata": {
    "slideshow": {
     "slide_type": "subslide"
    }
   },
   "source": [
    "1. Support: Refers to popularity of the item.\n",
    "\n",
    "    Support = Transactions containing item / Total transactions"
   ]
  },
  {
   "cell_type": "markdown",
   "metadata": {
    "slideshow": {
     "slide_type": "subslide"
    }
   },
   "source": [
    "2. Confidence: The likelihood that an item B is also bought if item A is bought.\n",
    "\n",
    "    Confidence (A -> B) = (Transactions containing both (A and B)) / (Transactions containing A)"
   ]
  },
  {
   "cell_type": "markdown",
   "metadata": {
    "slideshow": {
     "slide_type": "subslide"
    }
   },
   "source": [
    "3. Lift: Lift refers to the increase in the ratio of the sale of B when A is sold. \n",
    "\n",
    "    Lift(A –> B) can be calculated by dividing Confidence(A -> B) divided by Support(B). "
   ]
  },
  {
   "cell_type": "markdown",
   "metadata": {
    "slideshow": {
     "slide_type": "slide"
    }
   },
   "source": [
    "Demo on Apriori Algorithm"
   ]
  },
  {
   "cell_type": "markdown",
   "metadata": {
    "slideshow": {
     "slide_type": "slide"
    }
   },
   "source": [
    "Step 1: Get the libraries\n"
   ]
  },
  {
   "cell_type": "code",
   "execution_count": 7,
   "metadata": {
    "slideshow": {
     "slide_type": "-"
    }
   },
   "outputs": [],
   "source": [
    "import numpy as np\n",
    "import pandas as pd\n",
    "from apyori import apriori"
   ]
  },
  {
   "cell_type": "markdown",
   "metadata": {
    "slideshow": {
     "slide_type": "slide"
    }
   },
   "source": [
    "Step 2: Read the dataset"
   ]
  },
  {
   "cell_type": "code",
   "execution_count": 8,
   "metadata": {
    "slideshow": {
     "slide_type": "-"
    }
   },
   "outputs": [
    {
     "name": "stdout",
     "output_type": "stream",
     "text": [
      "Number of records found:  7500\n"
     ]
    }
   ],
   "source": [
    "dataset_movies = pd.read_csv(\"./datasets/movies/movie_dataset.csv\")\n",
    "print(\"Number of records found: \", len(dataset_movies))"
   ]
  },
  {
   "cell_type": "markdown",
   "metadata": {
    "slideshow": {
     "slide_type": "slide"
    }
   },
   "source": [
    "Step 3: Convert data frame into list of lists"
   ]
  },
  {
   "cell_type": "code",
   "execution_count": 9,
   "metadata": {
    "slideshow": {
     "slide_type": "-"
    }
   },
   "outputs": [
    {
     "name": "stdout",
     "output_type": "stream",
     "text": [
      "First element:  ['Beirut', 'Martian', 'Get Out', 'nan', 'nan', 'nan', 'nan', 'nan', 'nan', 'nan', 'nan', 'nan', 'nan', 'nan', 'nan', 'nan', 'nan', 'nan', 'nan', 'nan']\n"
     ]
    }
   ],
   "source": [
    "dataset_as_list = []\n",
    "for each_row in range(0, 200):\n",
    "    row_as_list_of_strings = []\n",
    "    for each_column in range(0, 20):\n",
    "        single_entry_as_string = str(dataset_movies.values[each_row, each_column])\n",
    "        row_as_list_of_strings.append(single_entry_as_string)\n",
    "    dataset_as_list.append(row_as_list_of_strings)\n",
    "print(\"First element: \", dataset_as_list[0])"
   ]
  },
  {
   "cell_type": "markdown",
   "metadata": {
    "slideshow": {
     "slide_type": "slide"
    }
   },
   "source": [
    "Step 4: Generate association rules"
   ]
  },
  {
   "cell_type": "code",
   "execution_count": 10,
   "metadata": {
    "slideshow": {
     "slide_type": "-"
    }
   },
   "outputs": [],
   "source": [
    "association_rules = apriori(dataset_as_list, min_support = 0.0053, min_confidence = 0.20, min_lift = 3, min_length = 2)\n",
    "association_results = list(association_rules)"
   ]
  },
  {
   "cell_type": "code",
   "execution_count": 11,
   "metadata": {
    "slideshow": {
     "slide_type": "slide"
    }
   },
   "outputs": [
    {
     "name": "stdout",
     "output_type": "stream",
     "text": [
      "Length of association results:  1388\n"
     ]
    }
   ],
   "source": [
    "print(\"Length of association results: \", len(association_results))"
   ]
  },
  {
   "cell_type": "code",
   "execution_count": 12,
   "metadata": {},
   "outputs": [
    {
     "name": "stdout",
     "output_type": "stream",
     "text": [
      "RelationRecord(items=frozenset({'Beirut', '13 Hours'}), support=0.02, ordered_statistics=[OrderedStatistic(items_base=frozenset({'13 Hours'}), items_add=frozenset({'Beirut'}), confidence=0.7999999999999999, lift=6.956521739130434)])\n"
     ]
    }
   ],
   "source": [
    "print(association_results[0])"
   ]
  }
 ],
 "metadata": {
  "celltoolbar": "Slideshow",
  "kernelspec": {
   "display_name": "Python 3",
   "language": "python",
   "name": "python3"
  },
  "language_info": {
   "codemirror_mode": {
    "name": "ipython",
    "version": 3
   },
   "file_extension": ".py",
   "mimetype": "text/x-python",
   "name": "python",
   "nbconvert_exporter": "python",
   "pygments_lexer": "ipython3",
   "version": "3.6.7"
  }
 },
 "nbformat": 4,
 "nbformat_minor": 4
}
